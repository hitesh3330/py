{
  "nbformat": 4,
  "nbformat_minor": 0,
  "metadata": {
    "colab": {
      "name": "Python.ipynb",
      "provenance": [],
      "collapsed_sections": [],
      "include_colab_link": true
    },
    "kernelspec": {
      "name": "python3",
      "display_name": "Python 3"
    }
  },
  "cells": [
    {
      "cell_type": "markdown",
      "metadata": {
        "id": "view-in-github",
        "colab_type": "text"
      },
      "source": [
        "<a href=\"https://colab.research.google.com/github/hitesh3330/py/blob/master/Python.ipynb\" target=\"_parent\"><img src=\"https://colab.research.google.com/assets/colab-badge.svg\" alt=\"Open In Colab\"/></a>"
      ]
    },
    {
      "cell_type": "code",
      "metadata": {
        "id": "4kNes8HU4gc5",
        "colab_type": "code",
        "colab": {
          "base_uri": "https://localhost:8080/",
          "height": 34
        },
        "outputId": "5e49ab3b-6fd1-41e3-b851-2f9fbb95848a"
      },
      "source": [
        "print(\"hello world\")"
      ],
      "execution_count": 201,
      "outputs": [
        {
          "output_type": "stream",
          "text": [
            "hello world\n"
          ],
          "name": "stdout"
        }
      ]
    },
    {
      "cell_type": "code",
      "metadata": {
        "id": "ffSFdZw_j3_R",
        "colab_type": "code",
        "colab": {
          "base_uri": "https://localhost:8080/",
          "height": 34
        },
        "outputId": "417f4a88-6536-46a6-bdea-e2ba36ffb24e"
      },
      "source": [
        "name = (\"Hitesh Vardhan\")\n",
        "print(name)"
      ],
      "execution_count": 202,
      "outputs": [
        {
          "output_type": "stream",
          "text": [
            "Hitesh Vardhan\n"
          ],
          "name": "stdout"
        }
      ]
    },
    {
      "cell_type": "code",
      "metadata": {
        "id": "-ILxcXmkk6vc",
        "colab_type": "code",
        "colab": {
          "base_uri": "https://localhost:8080/",
          "height": 34
        },
        "outputId": "5a044cf0-c098-4907-bad0-3b9400715dfc"
      },
      "source": [
        "type(name)"
      ],
      "execution_count": 203,
      "outputs": [
        {
          "output_type": "execute_result",
          "data": {
            "text/plain": [
              "str"
            ]
          },
          "metadata": {
            "tags": []
          },
          "execution_count": 203
        }
      ]
    },
    {
      "cell_type": "code",
      "metadata": {
        "id": "BUUk1sLPnoSz",
        "colab_type": "code",
        "colab": {
          "base_uri": "https://localhost:8080/",
          "height": 51
        },
        "outputId": "d0559041-73b3-4dc2-f26e-0c2bb9efde8c"
      },
      "source": [
        "a=1\n",
        "print(a)\n",
        "type(a)"
      ],
      "execution_count": 204,
      "outputs": [
        {
          "output_type": "stream",
          "text": [
            "1\n"
          ],
          "name": "stdout"
        },
        {
          "output_type": "execute_result",
          "data": {
            "text/plain": [
              "int"
            ]
          },
          "metadata": {
            "tags": []
          },
          "execution_count": 204
        }
      ]
    },
    {
      "cell_type": "code",
      "metadata": {
        "id": "QNPHIXOWn5su",
        "colab_type": "code",
        "colab": {
          "base_uri": "https://localhost:8080/",
          "height": 51
        },
        "outputId": "427aa281-d90f-4e28-8786-5fedf4596c8d"
      },
      "source": [
        "b=3.1\n",
        "print(b)\n",
        "type(b)"
      ],
      "execution_count": 205,
      "outputs": [
        {
          "output_type": "stream",
          "text": [
            "3.1\n"
          ],
          "name": "stdout"
        },
        {
          "output_type": "execute_result",
          "data": {
            "text/plain": [
              "float"
            ]
          },
          "metadata": {
            "tags": []
          },
          "execution_count": 205
        }
      ]
    },
    {
      "cell_type": "code",
      "metadata": {
        "id": "iahZg21soB7G",
        "colab_type": "code",
        "colab": {
          "base_uri": "https://localhost:8080/",
          "height": 51
        },
        "outputId": "a1d043f4-7d04-4c4b-d6e9-7f7900d5f275"
      },
      "source": [
        "c=True\n",
        "print(c)\n",
        "type(c)"
      ],
      "execution_count": 206,
      "outputs": [
        {
          "output_type": "stream",
          "text": [
            "True\n"
          ],
          "name": "stdout"
        },
        {
          "output_type": "execute_result",
          "data": {
            "text/plain": [
              "bool"
            ]
          },
          "metadata": {
            "tags": []
          },
          "execution_count": 206
        }
      ]
    },
    {
      "cell_type": "code",
      "metadata": {
        "id": "sSJCyIYzoYlV",
        "colab_type": "code",
        "colab": {
          "base_uri": "https://localhost:8080/",
          "height": 51
        },
        "outputId": "05611768-dd24-4e78-ead0-85f1fbe3a16d"
      },
      "source": [
        "\n",
        "d=3+4j\n",
        "print(d)\n",
        "type(d)"
      ],
      "execution_count": 207,
      "outputs": [
        {
          "output_type": "stream",
          "text": [
            "(3+4j)\n"
          ],
          "name": "stdout"
        },
        {
          "output_type": "execute_result",
          "data": {
            "text/plain": [
              "complex"
            ]
          },
          "metadata": {
            "tags": []
          },
          "execution_count": 207
        }
      ]
    },
    {
      "cell_type": "code",
      "metadata": {
        "id": "PusiXTgtxxPg",
        "colab_type": "code",
        "colab": {}
      },
      "source": [
        "# ----> This is comments"
      ],
      "execution_count": 208,
      "outputs": []
    },
    {
      "cell_type": "code",
      "metadata": {
        "id": "vmj21k7Iy-I_",
        "colab_type": "code",
        "colab": {}
      },
      "source": [
        "# Arithmetic Operators\n",
        "# +, -, *, /"
      ],
      "execution_count": 209,
      "outputs": []
    },
    {
      "cell_type": "code",
      "metadata": {
        "id": "SY4d3LMx2Fru",
        "colab_type": "code",
        "colab": {
          "base_uri": "https://localhost:8080/",
          "height": 102
        },
        "outputId": "cb81004a-4f9a-438a-fe80-c2957ff913b1"
      },
      "source": [
        "a=10\n",
        "b=10\n",
        "print(a+b)\n",
        "print(a-b)\n",
        "print(a*b)\n",
        "print(a/b)\n",
        "print(a//b)"
      ],
      "execution_count": 210,
      "outputs": [
        {
          "output_type": "stream",
          "text": [
            "20\n",
            "0\n",
            "100\n",
            "1.0\n",
            "1\n"
          ],
          "name": "stdout"
        }
      ]
    },
    {
      "cell_type": "code",
      "metadata": {
        "id": "geBlyndD4JsI",
        "colab_type": "code",
        "colab": {}
      },
      "source": [
        "# Relational Operators\n",
        "# >, <, ==, !="
      ],
      "execution_count": 211,
      "outputs": []
    },
    {
      "cell_type": "code",
      "metadata": {
        "id": "EwXN4wWn4_uO",
        "colab_type": "code",
        "colab": {
          "base_uri": "https://localhost:8080/",
          "height": 34
        },
        "outputId": "ae229ed8-d937-4efb-ebee-f04d750d9f49"
      },
      "source": [
        "a=10\n",
        "b=5\n",
        "a>b\n"
      ],
      "execution_count": 212,
      "outputs": [
        {
          "output_type": "execute_result",
          "data": {
            "text/plain": [
              "True"
            ]
          },
          "metadata": {
            "tags": []
          },
          "execution_count": 212
        }
      ]
    },
    {
      "cell_type": "code",
      "metadata": {
        "id": "r2rExYwe30ei",
        "colab_type": "code",
        "colab": {
          "base_uri": "https://localhost:8080/",
          "height": 34
        },
        "outputId": "1a0ba26b-e577-45b7-ac79-cbd642aaa59f"
      },
      "source": [
        "a<b\n"
      ],
      "execution_count": 213,
      "outputs": [
        {
          "output_type": "execute_result",
          "data": {
            "text/plain": [
              "False"
            ]
          },
          "metadata": {
            "tags": []
          },
          "execution_count": 213
        }
      ]
    },
    {
      "cell_type": "code",
      "metadata": {
        "id": "V0ghM4onydJW",
        "colab_type": "code",
        "colab": {
          "base_uri": "https://localhost:8080/",
          "height": 34
        },
        "outputId": "12d826d9-e30d-4636-f3c1-a5ecf8c50aba"
      },
      "source": [
        "a==b"
      ],
      "execution_count": 214,
      "outputs": [
        {
          "output_type": "execute_result",
          "data": {
            "text/plain": [
              "False"
            ]
          },
          "metadata": {
            "tags": []
          },
          "execution_count": 214
        }
      ]
    },
    {
      "cell_type": "code",
      "metadata": {
        "id": "yWFD5SkZgjQ2",
        "colab_type": "code",
        "colab": {
          "base_uri": "https://localhost:8080/",
          "height": 34
        },
        "outputId": "33aae2b6-0535-4890-eee6-71925f2603bf"
      },
      "source": [
        "a!=b"
      ],
      "execution_count": 215,
      "outputs": [
        {
          "output_type": "execute_result",
          "data": {
            "text/plain": [
              "True"
            ]
          },
          "metadata": {
            "tags": []
          },
          "execution_count": 215
        }
      ]
    },
    {
      "cell_type": "code",
      "metadata": {
        "id": "_wtaBxfSgjjj",
        "colab_type": "code",
        "colab": {}
      },
      "source": [
        "# Logical Operators\n",
        "# &, |"
      ],
      "execution_count": 216,
      "outputs": []
    },
    {
      "cell_type": "code",
      "metadata": {
        "id": "s5dTGQJQgjtC",
        "colab_type": "code",
        "colab": {
          "base_uri": "https://localhost:8080/",
          "height": 85
        },
        "outputId": "c7c234ee-abe1-43fe-eb07-a896d7fd49ad"
      },
      "source": [
        "a= True\n",
        "b= False\n",
        "print(a&b)\n",
        "print(a&a)\n",
        "print(a|b)\n",
        "print(b|b)"
      ],
      "execution_count": 217,
      "outputs": [
        {
          "output_type": "stream",
          "text": [
            "False\n",
            "True\n",
            "True\n",
            "False\n"
          ],
          "name": "stdout"
        }
      ]
    },
    {
      "cell_type": "code",
      "metadata": {
        "id": "0Uaegtrsgjqo",
        "colab_type": "code",
        "colab": {
          "base_uri": "https://localhost:8080/",
          "height": 34
        },
        "outputId": "84812d55-66a3-4f35-c94d-86cc60239fac"
      },
      "source": [
        "name = \"Hitesh Vardhan\"\n",
        "print(name)"
      ],
      "execution_count": 218,
      "outputs": [
        {
          "output_type": "stream",
          "text": [
            "Hitesh Vardhan\n"
          ],
          "name": "stdout"
        }
      ]
    },
    {
      "cell_type": "code",
      "metadata": {
        "id": "NPoIUHnWgjhp",
        "colab_type": "code",
        "colab": {
          "base_uri": "https://localhost:8080/",
          "height": 34
        },
        "outputId": "2b9d2b2f-1af9-4b3d-ac9e-c20647e800e5"
      },
      "source": [
        "name = \"\"\"This is multiline string\"\"\"\n",
        "print(name)"
      ],
      "execution_count": 219,
      "outputs": [
        {
          "output_type": "stream",
          "text": [
            "This is multiline string\n"
          ],
          "name": "stdout"
        }
      ]
    },
    {
      "cell_type": "code",
      "metadata": {
        "id": "foBg0hzCgjOd",
        "colab_type": "code",
        "colab": {
          "base_uri": "https://localhost:8080/",
          "height": 34
        },
        "outputId": "1a326672-7a15-4c32-c66a-c4fdecb4e456"
      },
      "source": [
        "first_name = \"Hitesh\"\n",
        "last_name = \"Vardhan\"\n",
        "full_name = first_name + last_name\n",
        "print(full_name)"
      ],
      "execution_count": 220,
      "outputs": [
        {
          "output_type": "stream",
          "text": [
            "HiteshVardhan\n"
          ],
          "name": "stdout"
        }
      ]
    },
    {
      "cell_type": "code",
      "metadata": {
        "id": "2zuxyCZxgjL1",
        "colab_type": "code",
        "colab": {
          "base_uri": "https://localhost:8080/",
          "height": 34
        },
        "outputId": "52dc590e-9f0c-4c66-e8b6-63c79624462c"
      },
      "source": [
        "print(first_name+\" \"+last_name)"
      ],
      "execution_count": 221,
      "outputs": [
        {
          "output_type": "stream",
          "text": [
            "Hitesh Vardhan\n"
          ],
          "name": "stdout"
        }
      ]
    },
    {
      "cell_type": "code",
      "metadata": {
        "id": "G-vFCFbzgjIa",
        "colab_type": "code",
        "colab": {
          "base_uri": "https://localhost:8080/",
          "height": 34
        },
        "outputId": "fbe83012-d9e4-4059-ba01-80644c62e081"
      },
      "source": [
        "print(full_name[0])"
      ],
      "execution_count": 222,
      "outputs": [
        {
          "output_type": "stream",
          "text": [
            "H\n"
          ],
          "name": "stdout"
        }
      ]
    },
    {
      "cell_type": "code",
      "metadata": {
        "id": "NFtDuEkCgjD8",
        "colab_type": "code",
        "colab": {
          "base_uri": "https://localhost:8080/",
          "height": 34
        },
        "outputId": "8d0a12b8-23f0-4e1d-d479-2e2d4a0c3328"
      },
      "source": [
        "print(full_name[-1])"
      ],
      "execution_count": 223,
      "outputs": [
        {
          "output_type": "stream",
          "text": [
            "n\n"
          ],
          "name": "stdout"
        }
      ]
    },
    {
      "cell_type": "code",
      "metadata": {
        "id": "0MJPML0aipKR",
        "colab_type": "code",
        "colab": {
          "base_uri": "https://localhost:8080/",
          "height": 34
        },
        "outputId": "59924ccd-fed1-4c18-f191-e4bc48d96291"
      },
      "source": [
        "print(full_name[0:])"
      ],
      "execution_count": 224,
      "outputs": [
        {
          "output_type": "stream",
          "text": [
            "HiteshVardhan\n"
          ],
          "name": "stdout"
        }
      ]
    },
    {
      "cell_type": "code",
      "metadata": {
        "id": "iSI-AgRnipbk",
        "colab_type": "code",
        "colab": {
          "base_uri": "https://localhost:8080/",
          "height": 34
        },
        "outputId": "bf6beb56-5f7e-409e-fcb8-ac37c38f7c37"
      },
      "source": [
        "print(full_name[0:5])"
      ],
      "execution_count": 225,
      "outputs": [
        {
          "output_type": "stream",
          "text": [
            "Hites\n"
          ],
          "name": "stdout"
        }
      ]
    },
    {
      "cell_type": "code",
      "metadata": {
        "id": "xUGBBbkcipXu",
        "colab_type": "code",
        "colab": {
          "base_uri": "https://localhost:8080/",
          "height": 34
        },
        "outputId": "0dc98b57-a76a-4c0b-a22e-02682b3aaa15"
      },
      "source": [
        "print(full_name[-5:-1])"
      ],
      "execution_count": 226,
      "outputs": [
        {
          "output_type": "stream",
          "text": [
            "rdha\n"
          ],
          "name": "stdout"
        }
      ]
    },
    {
      "cell_type": "code",
      "metadata": {
        "id": "lo3t8mtjipFh",
        "colab_type": "code",
        "colab": {
          "base_uri": "https://localhost:8080/",
          "height": 34
        },
        "outputId": "621e4f44-836e-4e74-ff38-473477077aa8"
      },
      "source": [
        "print(len(full_name))"
      ],
      "execution_count": 227,
      "outputs": [
        {
          "output_type": "stream",
          "text": [
            "13\n"
          ],
          "name": "stdout"
        }
      ]
    },
    {
      "cell_type": "code",
      "metadata": {
        "id": "A4wMOmjzjEu3",
        "colab_type": "code",
        "colab": {
          "base_uri": "https://localhost:8080/",
          "height": 34
        },
        "outputId": "8518b6fa-302f-4776-9981-07f5c87a7527"
      },
      "source": [
        "print(full_name.lower())"
      ],
      "execution_count": 228,
      "outputs": [
        {
          "output_type": "stream",
          "text": [
            "hiteshvardhan\n"
          ],
          "name": "stdout"
        }
      ]
    },
    {
      "cell_type": "code",
      "metadata": {
        "id": "9CjvHWhFjErM",
        "colab_type": "code",
        "colab": {
          "base_uri": "https://localhost:8080/",
          "height": 34
        },
        "outputId": "d059b3c7-3b84-4be1-ba56-86f3079959ff"
      },
      "source": [
        "print(full_name.upper())"
      ],
      "execution_count": 229,
      "outputs": [
        {
          "output_type": "stream",
          "text": [
            "HITESHVARDHAN\n"
          ],
          "name": "stdout"
        }
      ]
    },
    {
      "cell_type": "code",
      "metadata": {
        "id": "U_CeGrKujEo-",
        "colab_type": "code",
        "colab": {
          "base_uri": "https://localhost:8080/",
          "height": 34
        },
        "outputId": "2e741711-ac74-4959-f660-2ccdb1f2d492"
      },
      "source": [
        "print(full_name.replace(\"Vardhan\",\"Wardhan\"))"
      ],
      "execution_count": 230,
      "outputs": [
        {
          "output_type": "stream",
          "text": [
            "HiteshWardhan\n"
          ],
          "name": "stdout"
        }
      ]
    },
    {
      "cell_type": "code",
      "metadata": {
        "id": "PKimm7t4jElZ",
        "colab_type": "code",
        "colab": {
          "base_uri": "https://localhost:8080/",
          "height": 34
        },
        "outputId": "24d833ae-e1fb-44a7-afa1-fa13af16ae78"
      },
      "source": [
        "print(full_name.count(\"H\"))"
      ],
      "execution_count": 231,
      "outputs": [
        {
          "output_type": "stream",
          "text": [
            "1\n"
          ],
          "name": "stdout"
        }
      ]
    },
    {
      "cell_type": "code",
      "metadata": {
        "id": "WYXiSg-_jEij",
        "colab_type": "code",
        "colab": {
          "base_uri": "https://localhost:8080/",
          "height": 34
        },
        "outputId": "463a2c7a-36f4-44be-92cb-f6c8dcd088aa"
      },
      "source": [
        "print(full_name.find(\"Vardhan\"))"
      ],
      "execution_count": 232,
      "outputs": [
        {
          "output_type": "stream",
          "text": [
            "6\n"
          ],
          "name": "stdout"
        }
      ]
    },
    {
      "cell_type": "code",
      "metadata": {
        "id": "gpD_uAgdkXyp",
        "colab_type": "code",
        "colab": {
          "base_uri": "https://localhost:8080/",
          "height": 34
        },
        "outputId": "e454d562-e5ba-4055-c89f-141d46eaabf9"
      },
      "source": [
        "fruit = \"Apple, Banana, Grapes\"\n",
        "print(fruit.split(\",\"))"
      ],
      "execution_count": 233,
      "outputs": [
        {
          "output_type": "stream",
          "text": [
            "['Apple', ' Banana', ' Grapes']\n"
          ],
          "name": "stdout"
        }
      ]
    },
    {
      "cell_type": "code",
      "metadata": {
        "id": "LPev1t8RkXvo",
        "colab_type": "code",
        "colab": {}
      },
      "source": [
        "# Tuples\n",
        "#Tuples are immutable."
      ],
      "execution_count": 234,
      "outputs": []
    },
    {
      "cell_type": "code",
      "metadata": {
        "id": "g7deOMbikXtN",
        "colab_type": "code",
        "colab": {
          "base_uri": "https://localhost:8080/",
          "height": 51
        },
        "outputId": "2be73cac-8081-4937-e29a-851699094be0"
      },
      "source": [
        "tup = (1,\"Hitesh\", True)\n",
        "print(tup)\n",
        "type(tup)"
      ],
      "execution_count": 235,
      "outputs": [
        {
          "output_type": "stream",
          "text": [
            "(1, 'Hitesh', True)\n"
          ],
          "name": "stdout"
        },
        {
          "output_type": "execute_result",
          "data": {
            "text/plain": [
              "tuple"
            ]
          },
          "metadata": {
            "tags": []
          },
          "execution_count": 235
        }
      ]
    },
    {
      "cell_type": "code",
      "metadata": {
        "id": "wpFp2R7TllZo",
        "colab_type": "code",
        "colab": {
          "base_uri": "https://localhost:8080/",
          "height": 34
        },
        "outputId": "9054edad-2c5c-4d73-b8ad-80809e13b918"
      },
      "source": [
        "print(tup[0])"
      ],
      "execution_count": 236,
      "outputs": [
        {
          "output_type": "stream",
          "text": [
            "1\n"
          ],
          "name": "stdout"
        }
      ]
    },
    {
      "cell_type": "code",
      "metadata": {
        "id": "wSJ2jRYUllXg",
        "colab_type": "code",
        "colab": {
          "base_uri": "https://localhost:8080/",
          "height": 34
        },
        "outputId": "6dad3d97-888f-4537-cb11-df63ad070f7b"
      },
      "source": [
        "print(tup[-1])"
      ],
      "execution_count": 237,
      "outputs": [
        {
          "output_type": "stream",
          "text": [
            "True\n"
          ],
          "name": "stdout"
        }
      ]
    },
    {
      "cell_type": "code",
      "metadata": {
        "id": "71LfIh4jllUU",
        "colab_type": "code",
        "colab": {
          "base_uri": "https://localhost:8080/",
          "height": 34
        },
        "outputId": "761bf62e-58ef-42f1-a773-b98163d21e52"
      },
      "source": [
        "print(tup[0:])"
      ],
      "execution_count": 238,
      "outputs": [
        {
          "output_type": "stream",
          "text": [
            "(1, 'Hitesh', True)\n"
          ],
          "name": "stdout"
        }
      ]
    },
    {
      "cell_type": "code",
      "metadata": {
        "id": "aOszVG3xllP7",
        "colab_type": "code",
        "colab": {
          "base_uri": "https://localhost:8080/",
          "height": 34
        },
        "outputId": "0940a8a0-012a-4bc3-ba31-164ef528bb05"
      },
      "source": [
        "print(len(tup))"
      ],
      "execution_count": 239,
      "outputs": [
        {
          "output_type": "stream",
          "text": [
            "3\n"
          ],
          "name": "stdout"
        }
      ]
    },
    {
      "cell_type": "code",
      "metadata": {
        "id": "fZensob4kXqK",
        "colab_type": "code",
        "colab": {
          "base_uri": "https://localhost:8080/",
          "height": 34
        },
        "outputId": "9310926a-391d-4a61-a0bd-d1f575474dbd"
      },
      "source": [
        "tup1=(7,\"Vardhan\", False)\n",
        "print(tup1)"
      ],
      "execution_count": 240,
      "outputs": [
        {
          "output_type": "stream",
          "text": [
            "(7, 'Vardhan', False)\n"
          ],
          "name": "stdout"
        }
      ]
    },
    {
      "cell_type": "code",
      "metadata": {
        "id": "Xbc8jzSdmvi5",
        "colab_type": "code",
        "colab": {
          "base_uri": "https://localhost:8080/",
          "height": 34
        },
        "outputId": "849b1c1e-96c9-4114-daed-be1d0bca5072"
      },
      "source": [
        "print(tup+tup1)"
      ],
      "execution_count": 241,
      "outputs": [
        {
          "output_type": "stream",
          "text": [
            "(1, 'Hitesh', True, 7, 'Vardhan', False)\n"
          ],
          "name": "stdout"
        }
      ]
    },
    {
      "cell_type": "code",
      "metadata": {
        "id": "PCZkr60jmvgB",
        "colab_type": "code",
        "colab": {
          "base_uri": "https://localhost:8080/",
          "height": 34
        },
        "outputId": "1c26de4c-f2ad-4d7f-9a89-3e1a95ead435"
      },
      "source": [
        "print(tup1+tup)"
      ],
      "execution_count": 242,
      "outputs": [
        {
          "output_type": "stream",
          "text": [
            "(7, 'Vardhan', False, 1, 'Hitesh', True)\n"
          ],
          "name": "stdout"
        }
      ]
    },
    {
      "cell_type": "code",
      "metadata": {
        "id": "2IyFF4Hbmvdl",
        "colab_type": "code",
        "colab": {
          "base_uri": "https://localhost:8080/",
          "height": 34
        },
        "outputId": "6cef73af-a5e5-4707-f476-9cd0084ec7a3"
      },
      "source": [
        "name=\"Hitesh\"\n",
        "print(name*3)"
      ],
      "execution_count": 243,
      "outputs": [
        {
          "output_type": "stream",
          "text": [
            "HiteshHiteshHitesh\n"
          ],
          "name": "stdout"
        }
      ]
    },
    {
      "cell_type": "code",
      "metadata": {
        "id": "pbtq_jdjmvZo",
        "colab_type": "code",
        "colab": {
          "base_uri": "https://localhost:8080/",
          "height": 34
        },
        "outputId": "7dfa6000-aa89-44dc-9911-6e80058d6b42"
      },
      "source": [
        "print(tup*2+tup1)"
      ],
      "execution_count": 244,
      "outputs": [
        {
          "output_type": "stream",
          "text": [
            "(1, 'Hitesh', True, 1, 'Hitesh', True, 7, 'Vardhan', False)\n"
          ],
          "name": "stdout"
        }
      ]
    },
    {
      "cell_type": "code",
      "metadata": {
        "id": "vUS2zU6unNSA",
        "colab_type": "code",
        "colab": {
          "base_uri": "https://localhost:8080/",
          "height": 51
        },
        "outputId": "5f79ed9b-1021-422d-c865-d70282bf5bd5"
      },
      "source": [
        "num=(1,2,3,4,5,6,7,8,9)\n",
        "print(min(num))\n",
        "print(max(num))\n"
      ],
      "execution_count": 245,
      "outputs": [
        {
          "output_type": "stream",
          "text": [
            "1\n",
            "9\n"
          ],
          "name": "stdout"
        }
      ]
    },
    {
      "cell_type": "code",
      "metadata": {
        "id": "S-Ayqp2snNPv",
        "colab_type": "code",
        "colab": {}
      },
      "source": [
        "#List\n",
        "#Mutable"
      ],
      "execution_count": 246,
      "outputs": []
    },
    {
      "cell_type": "code",
      "metadata": {
        "id": "xeRXX35PnNMO",
        "colab_type": "code",
        "colab": {
          "base_uri": "https://localhost:8080/",
          "height": 119
        },
        "outputId": "ba0ee5d1-82d0-471a-da2c-77a452014f19"
      },
      "source": [
        "li=[1,\"Hitesh\", True]\n",
        "print(li)\n",
        "print(type(li))\n",
        "print(li[0])\n",
        "print(li[-1])\n",
        "print(len(num))\n",
        "print(li[0:])"
      ],
      "execution_count": 247,
      "outputs": [
        {
          "output_type": "stream",
          "text": [
            "[1, 'Hitesh', True]\n",
            "<class 'list'>\n",
            "1\n",
            "True\n",
            "9\n",
            "[1, 'Hitesh', True]\n"
          ],
          "name": "stdout"
        }
      ]
    },
    {
      "cell_type": "code",
      "metadata": {
        "id": "DSnZbo3hnNIs",
        "colab_type": "code",
        "colab": {
          "base_uri": "https://localhost:8080/",
          "height": 34
        },
        "outputId": "d6262e2b-a15e-4608-c00c-f0236a577ca0"
      },
      "source": [
        "li[1]=\"Vardhan\"\n",
        "print(li)"
      ],
      "execution_count": 248,
      "outputs": [
        {
          "output_type": "stream",
          "text": [
            "[1, 'Vardhan', True]\n"
          ],
          "name": "stdout"
        }
      ]
    },
    {
      "cell_type": "code",
      "metadata": {
        "id": "vxJpZp-MmvUZ",
        "colab_type": "code",
        "colab": {
          "base_uri": "https://localhost:8080/",
          "height": 34
        },
        "outputId": "ffbcdd65-0ea3-450c-83c2-ea65872d0a18"
      },
      "source": [
        "li.pop()\n",
        "print(li)"
      ],
      "execution_count": 249,
      "outputs": [
        {
          "output_type": "stream",
          "text": [
            "[1, 'Vardhan']\n"
          ],
          "name": "stdout"
        }
      ]
    },
    {
      "cell_type": "code",
      "metadata": {
        "id": "mjlXNy5DkXlu",
        "colab_type": "code",
        "colab": {
          "base_uri": "https://localhost:8080/",
          "height": 51
        },
        "outputId": "b8d93e71-6feb-4f6b-9fd1-603f70e10ccf"
      },
      "source": [
        "print(li.append(False))\n",
        "print(li)"
      ],
      "execution_count": 250,
      "outputs": [
        {
          "output_type": "stream",
          "text": [
            "None\n",
            "[1, 'Vardhan', False]\n"
          ],
          "name": "stdout"
        }
      ]
    },
    {
      "cell_type": "code",
      "metadata": {
        "id": "H-bmhFLwpRim",
        "colab_type": "code",
        "colab": {}
      },
      "source": [
        "#Dictionary\n",
        "#Mutable"
      ],
      "execution_count": 251,
      "outputs": []
    },
    {
      "cell_type": "code",
      "metadata": {
        "id": "sf6nMdvjrlz1",
        "colab_type": "code",
        "colab": {
          "base_uri": "https://localhost:8080/",
          "height": 51
        },
        "outputId": "cf3f3a47-3eda-4c4f-ca40-641194c3c8f1"
      },
      "source": [
        "country = {\"India\": \"Bharat\",\"Delhi\":\"Kolkata\"}\n",
        "print(country)\n",
        "print(type(country))"
      ],
      "execution_count": 252,
      "outputs": [
        {
          "output_type": "stream",
          "text": [
            "{'India': 'Bharat', 'Delhi': 'Kolkata'}\n",
            "<class 'dict'>\n"
          ],
          "name": "stdout"
        }
      ]
    },
    {
      "cell_type": "code",
      "metadata": {
        "id": "4mnFCWnyrlva",
        "colab_type": "code",
        "colab": {
          "base_uri": "https://localhost:8080/",
          "height": 51
        },
        "outputId": "1b3b1014-1163-419f-cebf-62c5223ac5db"
      },
      "source": [
        "print(country.keys())\n",
        "print(country.values())"
      ],
      "execution_count": 253,
      "outputs": [
        {
          "output_type": "stream",
          "text": [
            "dict_keys(['India', 'Delhi'])\n",
            "dict_values(['Bharat', 'Kolkata'])\n"
          ],
          "name": "stdout"
        }
      ]
    },
    {
      "cell_type": "code",
      "metadata": {
        "id": "cDJZNpXkrlp_",
        "colab_type": "code",
        "colab": {
          "base_uri": "https://localhost:8080/",
          "height": 34
        },
        "outputId": "a5c0af5b-1d17-4d3c-80ff-b5d71fe4ece0"
      },
      "source": [
        "country[\"Calicut\"]=\"Kohzikoda\"\n",
        "print(country)"
      ],
      "execution_count": 254,
      "outputs": [
        {
          "output_type": "stream",
          "text": [
            "{'India': 'Bharat', 'Delhi': 'Kolkata', 'Calicut': 'Kohzikoda'}\n"
          ],
          "name": "stdout"
        }
      ]
    },
    {
      "cell_type": "code",
      "metadata": {
        "id": "6TfIJlYYpReC",
        "colab_type": "code",
        "colab": {
          "base_uri": "https://localhost:8080/",
          "height": 34
        },
        "outputId": "06222ec5-3e5c-45bb-af21-ae4799894a84"
      },
      "source": [
        "country[\"Delhi\"]=\"Haryana\"\n",
        "print(country)"
      ],
      "execution_count": 255,
      "outputs": [
        {
          "output_type": "stream",
          "text": [
            "{'India': 'Bharat', 'Delhi': 'Haryana', 'Calicut': 'Kohzikoda'}\n"
          ],
          "name": "stdout"
        }
      ]
    },
    {
      "cell_type": "code",
      "metadata": {
        "id": "UPoEqFcKpRWl",
        "colab_type": "code",
        "colab": {
          "base_uri": "https://localhost:8080/",
          "height": 34
        },
        "outputId": "c801973c-c881-4048-c979-e2924d6f3b91"
      },
      "source": [
        "state = {\"Haryana\":\"Chandigarh\",\"Tamil Nadu\":\"Chennai\"}\n",
        "u_t={\"Daman & Diu Dadra Nagar Haveli\": \"Daman\",\"Lakshedweep\":\"Silvasa\"}\n",
        "state.update(u_t)\n",
        "print(state)"
      ],
      "execution_count": 256,
      "outputs": [
        {
          "output_type": "stream",
          "text": [
            "{'Haryana': 'Chandigarh', 'Tamil Nadu': 'Chennai', 'Daman & Diu Dadra Nagar Haveli': 'Daman', 'Lakshedweep': 'Silvasa'}\n"
          ],
          "name": "stdout"
        }
      ]
    },
    {
      "cell_type": "code",
      "metadata": {
        "id": "TEg9RzpktTN9",
        "colab_type": "code",
        "colab": {}
      },
      "source": [
        "#Condition\n",
        "#If statement"
      ],
      "execution_count": 257,
      "outputs": []
    },
    {
      "cell_type": "code",
      "metadata": {
        "id": "FTrffwhatTKr",
        "colab_type": "code",
        "colab": {
          "base_uri": "https://localhost:8080/",
          "height": 68
        },
        "outputId": "be7a0798-8725-451c-b9b9-408d0d1bdf20"
      },
      "source": [
        "a=input(int())\n",
        "b=input(int())\n",
        "if a>b:\n",
        "  print(a,\"is greater than\",b)\n",
        "else:\n",
        "  print(a,\"is less than\",b)"
      ],
      "execution_count": 258,
      "outputs": [
        {
          "output_type": "stream",
          "text": [
            "1\n",
            "1\n",
            "1 is less than 1\n"
          ],
          "name": "stdout"
        }
      ]
    },
    {
      "cell_type": "code",
      "metadata": {
        "id": "7DsVFEPbtTGQ",
        "colab_type": "code",
        "colab": {
          "base_uri": "https://localhost:8080/",
          "height": 85
        },
        "outputId": "4da96187-3f20-4e16-a637-7e5a467ea148"
      },
      "source": [
        "a=input(int())\n",
        "b=input(int())\n",
        "c=input(int())\n",
        "if (a>b) & (a>c):\n",
        "  print(a,\"is greater than\", b, \"and\",c)\n",
        "elif (b>c) & (b>a):\n",
        "  print(b,\"is greater than\",a, \"and\",c)\n",
        "else:\n",
        "  print(c,\"is greater than\",a, \"and\",b)"
      ],
      "execution_count": 259,
      "outputs": [
        {
          "output_type": "stream",
          "text": [
            "1\n",
            "3\n",
            "3\n",
            "3 is greater than 1 and 3\n"
          ],
          "name": "stdout"
        }
      ]
    },
    {
      "cell_type": "code",
      "metadata": {
        "id": "r_4NdNdoyuCK",
        "colab_type": "code",
        "colab": {
          "base_uri": "https://localhost:8080/",
          "height": 34
        },
        "outputId": "9ffdc852-f284-4a4a-c024-f69fab3f0b12"
      },
      "source": [
        "tup=(1,2,3)\n",
        "if 1 in tup:\n",
        "  print(\"1 is present\")\n",
        "  "
      ],
      "execution_count": 260,
      "outputs": [
        {
          "output_type": "stream",
          "text": [
            "1 is present\n"
          ],
          "name": "stdout"
        }
      ]
    },
    {
      "cell_type": "code",
      "metadata": {
        "id": "UEHD_EZ7yt-8",
        "colab_type": "code",
        "colab": {
          "base_uri": "https://localhost:8080/",
          "height": 187
        },
        "outputId": "b95e0f91-c5f0-4056-9752-5cb65a7ceadd"
      },
      "source": [
        "i=1\n",
        "while i<=10:\n",
        "  print(i)\n",
        "  i=i+1"
      ],
      "execution_count": 261,
      "outputs": [
        {
          "output_type": "stream",
          "text": [
            "1\n",
            "2\n",
            "3\n",
            "4\n",
            "5\n",
            "6\n",
            "7\n",
            "8\n",
            "9\n",
            "10\n"
          ],
          "name": "stdout"
        }
      ]
    },
    {
      "cell_type": "code",
      "metadata": {
        "id": "9OkTuReqyt6y",
        "colab_type": "code",
        "colab": {
          "base_uri": "https://localhost:8080/",
          "height": 187
        },
        "outputId": "982d5da1-f823-4751-e2a5-909c9b0ec480"
      },
      "source": [
        "i=1\n",
        "n=7\n",
        "while i<=10:\n",
        "  print(n,\" * \",i,\" = \",n*i)\n",
        "  i=i+1"
      ],
      "execution_count": 262,
      "outputs": [
        {
          "output_type": "stream",
          "text": [
            "7  *  1  =  7\n",
            "7  *  2  =  14\n",
            "7  *  3  =  21\n",
            "7  *  4  =  28\n",
            "7  *  5  =  35\n",
            "7  *  6  =  42\n",
            "7  *  7  =  49\n",
            "7  *  8  =  56\n",
            "7  *  9  =  63\n",
            "7  *  10  =  70\n"
          ],
          "name": "stdout"
        }
      ]
    },
    {
      "cell_type": "code",
      "metadata": {
        "id": "V5i_Tbzhyt1m",
        "colab_type": "code",
        "colab": {
          "base_uri": "https://localhost:8080/",
          "height": 68
        },
        "outputId": "fbed4b43-face-4175-f15a-026e2ea42d45"
      },
      "source": [
        "fruit=[\"Apple\",\"Banana\",\"Grapes\"]\n",
        "for i in fruit:\n",
        "  print(i)"
      ],
      "execution_count": 263,
      "outputs": [
        {
          "output_type": "stream",
          "text": [
            "Apple\n",
            "Banana\n",
            "Grapes\n"
          ],
          "name": "stdout"
        }
      ]
    },
    {
      "cell_type": "code",
      "metadata": {
        "id": "huvGq6ol2Vwb",
        "colab_type": "code",
        "colab": {
          "base_uri": "https://localhost:8080/",
          "height": 170
        },
        "outputId": "fcab17f0-55b5-4c85-b116-c697e13673f8"
      },
      "source": [
        "a=[\"Hi\",\"Hello\",\"Hey\"]\n",
        "b=[\"Halo\",\"Hii\",\"Hay\"]\n",
        "for i in a:\n",
        "  for j in b:\n",
        "    print(i,j)"
      ],
      "execution_count": 264,
      "outputs": [
        {
          "output_type": "stream",
          "text": [
            "Hi Halo\n",
            "Hi Hii\n",
            "Hi Hay\n",
            "Hello Halo\n",
            "Hello Hii\n",
            "Hello Hay\n",
            "Hey Halo\n",
            "Hey Hii\n",
            "Hey Hay\n"
          ],
          "name": "stdout"
        }
      ]
    },
    {
      "cell_type": "code",
      "metadata": {
        "id": "oSFrhUyr2WHA",
        "colab_type": "code",
        "colab": {}
      },
      "source": [
        "#Function\n",
        "#Block of code which perform a specific task"
      ],
      "execution_count": 265,
      "outputs": []
    },
    {
      "cell_type": "code",
      "metadata": {
        "id": "mtYnptvN2WDb",
        "colab_type": "code",
        "colab": {
          "base_uri": "https://localhost:8080/",
          "height": 34
        },
        "outputId": "7670ff90-b324-4758-f26a-31261a7aabf9"
      },
      "source": [
        "def hello():\n",
        "  print(\"hello world\")\n",
        "hello()"
      ],
      "execution_count": 266,
      "outputs": [
        {
          "output_type": "stream",
          "text": [
            "hello world\n"
          ],
          "name": "stdout"
        }
      ]
    },
    {
      "cell_type": "code",
      "metadata": {
        "id": "iQZDG-E02V-o",
        "colab_type": "code",
        "colab": {
          "base_uri": "https://localhost:8080/",
          "height": 34
        },
        "outputId": "7ef20257-5b31-4d48-afef-a9d40f31c290"
      },
      "source": [
        "def add_10(x):\n",
        "  return x+10\n",
        "add_10(9)"
      ],
      "execution_count": 267,
      "outputs": [
        {
          "output_type": "execute_result",
          "data": {
            "text/plain": [
              "19"
            ]
          },
          "metadata": {
            "tags": []
          },
          "execution_count": 267
        }
      ]
    },
    {
      "cell_type": "code",
      "metadata": {
        "id": "VnrwBjk0-gqg",
        "colab_type": "code",
        "colab": {
          "base_uri": "https://localhost:8080/",
          "height": 34
        },
        "outputId": "a7a4977c-3a07-4251-e218-04204fdcd80d"
      },
      "source": [
        "def odd_even(x):\n",
        "  if x%2==0:\n",
        "    print(x, \"is even\")\n",
        "  else:\n",
        "    print(x,\" is odd\")\n",
        "odd_even(2)\n"
      ],
      "execution_count": 268,
      "outputs": [
        {
          "output_type": "stream",
          "text": [
            "2 is even\n"
          ],
          "name": "stdout"
        }
      ]
    },
    {
      "cell_type": "code",
      "metadata": {
        "id": "YG-Br827-gmu",
        "colab_type": "code",
        "colab": {
          "base_uri": "https://localhost:8080/",
          "height": 34
        },
        "outputId": "3ced64ae-a172-46ff-e4ac-2e0375a65f21"
      },
      "source": [
        "g=lambda x: x*x*x\n",
        "g(7)"
      ],
      "execution_count": 269,
      "outputs": [
        {
          "output_type": "execute_result",
          "data": {
            "text/plain": [
              "343"
            ]
          },
          "metadata": {
            "tags": []
          },
          "execution_count": 269
        }
      ]
    },
    {
      "cell_type": "code",
      "metadata": {
        "id": "zvYTIT-k-ggg",
        "colab_type": "code",
        "colab": {}
      },
      "source": [
        "#lambda with filter\n"
      ],
      "execution_count": 270,
      "outputs": []
    },
    {
      "cell_type": "code",
      "metadata": {
        "id": "YFNLEdSi2VsS",
        "colab_type": "code",
        "colab": {
          "base_uri": "https://localhost:8080/",
          "height": 34
        },
        "outputId": "8c85a928-5624-40e0-87ca-dccbc52d752f"
      },
      "source": [
        "li=[23,54,56,47,33,12,67]\n",
        "list(filter(lambda x: (x%2!=0),li))"
      ],
      "execution_count": 271,
      "outputs": [
        {
          "output_type": "execute_result",
          "data": {
            "text/plain": [
              "[23, 47, 33, 67]"
            ]
          },
          "metadata": {
            "tags": []
          },
          "execution_count": 271
        }
      ]
    },
    {
      "cell_type": "code",
      "metadata": {
        "id": "udIJE4t52Vlk",
        "colab_type": "code",
        "colab": {}
      },
      "source": [
        "#lambda with map"
      ],
      "execution_count": 272,
      "outputs": []
    },
    {
      "cell_type": "code",
      "metadata": {
        "id": "Cyj5s10EAiHp",
        "colab_type": "code",
        "colab": {
          "base_uri": "https://localhost:8080/",
          "height": 34
        },
        "outputId": "e3b1f833-1437-46af-883c-b69f7bf5b2d4"
      },
      "source": [
        "li=[12,34,57,85,45]\n",
        "list(map(lambda x: x*2,li))"
      ],
      "execution_count": 273,
      "outputs": [
        {
          "output_type": "execute_result",
          "data": {
            "text/plain": [
              "[24, 68, 114, 170, 90]"
            ]
          },
          "metadata": {
            "tags": []
          },
          "execution_count": 273
        }
      ]
    },
    {
      "cell_type": "code",
      "metadata": {
        "id": "FxF7tzCAAiD-",
        "colab_type": "code",
        "colab": {}
      },
      "source": [
        ""
      ],
      "execution_count": 274,
      "outputs": []
    },
    {
      "cell_type": "code",
      "metadata": {
        "id": "vdSBq78nAiAq",
        "colab_type": "code",
        "colab": {}
      },
      "source": [
        ""
      ],
      "execution_count": 274,
      "outputs": []
    },
    {
      "cell_type": "code",
      "metadata": {
        "id": "3mJ7HzxhAh6j",
        "colab_type": "code",
        "colab": {}
      },
      "source": [
        ""
      ],
      "execution_count": 274,
      "outputs": []
    }
  ]
}