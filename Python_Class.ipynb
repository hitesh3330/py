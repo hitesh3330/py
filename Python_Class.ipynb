{
  "nbformat": 4,
  "nbformat_minor": 0,
  "metadata": {
    "colab": {
      "name": "Python Class.ipynb",
      "provenance": [],
      "collapsed_sections": [],
      "authorship_tag": "ABX9TyOA5/j77drYM8Kw9BeMl+rN",
      "include_colab_link": true
    },
    "kernelspec": {
      "name": "python3",
      "display_name": "Python 3"
    }
  },
  "cells": [
    {
      "cell_type": "markdown",
      "metadata": {
        "id": "view-in-github",
        "colab_type": "text"
      },
      "source": [
        "<a href=\"https://colab.research.google.com/github/hitesh3330/py/blob/master/Python_Class.ipynb\" target=\"_parent\"><img src=\"https://colab.research.google.com/assets/colab-badge.svg\" alt=\"Open In Colab\"/></a>"
      ]
    },
    {
      "cell_type": "code",
      "metadata": {
        "id": "452N3tePqzZ9",
        "colab_type": "code",
        "colab": {
          "base_uri": "https://localhost:8080/",
          "height": 34
        },
        "outputId": "5f49da09-79f2-44d1-9ddd-a5117921aca1"
      },
      "source": [
        "class Phone:\n",
        "  def make_call(self):\n",
        "    print(\"Make a call\")\n",
        "  def play_games(self):\n",
        "    print(\"Play games\")\n",
        "\n",
        "p1 = Phone()\n",
        "p1.make_call()"
      ],
      "execution_count": 2,
      "outputs": [
        {
          "output_type": "stream",
          "text": [
            "Make a call\n"
          ],
          "name": "stdout"
        }
      ]
    },
    {
      "cell_type": "code",
      "metadata": {
        "id": "k7voShGB6IDE",
        "colab_type": "code",
        "colab": {
          "base_uri": "https://localhost:8080/",
          "height": 34
        },
        "outputId": "d064f177-eb94-407a-a5d7-e69fafe5011c"
      },
      "source": [
        "p1.play_games()"
      ],
      "execution_count": 3,
      "outputs": [
        {
          "output_type": "stream",
          "text": [
            "Play games\n"
          ],
          "name": "stdout"
        }
      ]
    },
    {
      "cell_type": "code",
      "metadata": {
        "id": "G40JFP6-6IA9",
        "colab_type": "code",
        "colab": {
          "base_uri": "https://localhost:8080/",
          "height": 35
        },
        "outputId": "d080aef0-aa4f-44ce-96da-ba001f7d7a07"
      },
      "source": [
        "class Phone:\n",
        "  def set_color(self,color):\n",
        "    self.color = color\n",
        "  def set_cost(self,cost):\n",
        "    self.cost = cost\n",
        "  def show_color(self):\n",
        "    return self.color\n",
        "  def show_cost(self):\n",
        "    return self.cost\n",
        "  def make_call(self):\n",
        "    print(\"Make a call\")\n",
        "  def play_games(self):\n",
        "    print(\"play a games\")\n",
        "\n",
        "p = Phone()\n",
        "p.set_color(\"blue\")\n",
        "p.show_color()"
      ],
      "execution_count": 7,
      "outputs": [
        {
          "output_type": "execute_result",
          "data": {
            "application/vnd.google.colaboratory.intrinsic+json": {
              "type": "string"
            },
            "text/plain": [
              "'blue'"
            ]
          },
          "metadata": {
            "tags": []
          },
          "execution_count": 7
        }
      ]
    },
    {
      "cell_type": "code",
      "metadata": {
        "id": "DM3_wjz06H-e",
        "colab_type": "code",
        "colab": {
          "base_uri": "https://localhost:8080/",
          "height": 35
        },
        "outputId": "7dc6074d-245b-463a-a660-121a25d9f59b"
      },
      "source": [
        "p.set_cost(\"10000\")\n",
        "p.show_cost()"
      ],
      "execution_count": 8,
      "outputs": [
        {
          "output_type": "execute_result",
          "data": {
            "application/vnd.google.colaboratory.intrinsic+json": {
              "type": "string"
            },
            "text/plain": [
              "'10000'"
            ]
          },
          "metadata": {
            "tags": []
          },
          "execution_count": 8
        }
      ]
    },
    {
      "cell_type": "code",
      "metadata": {
        "id": "FGsGA83Q8Yr0",
        "colab_type": "code",
        "colab": {
          "base_uri": "https://localhost:8080/",
          "height": 35
        },
        "outputId": "38bd628e-0e62-4cf9-be2b-7819f094f251"
      },
      "source": [
        "class Employees:\n",
        "  def name(self,name):\n",
        "    self.name = name\n",
        "  def gender(self,gender):\n",
        "    self.gender = gender\n",
        "  def profession(self,profession):\n",
        "    self.profession = profession\n",
        "  def salary(self, salary):\n",
        "    self.salary = salary\n",
        "  \n",
        "  def name1(self):\n",
        "    return self.name\n",
        "  def gender1(self):\n",
        "    return self.gender\n",
        "  def profession1(self):\n",
        "    return self.profession\n",
        "  def salary1(self):\n",
        "    return self.salary\n",
        "a=Employees()\n",
        "a.name(\"Hitesh\")\n",
        "a.name1()\n",
        "    "
      ],
      "execution_count": 18,
      "outputs": [
        {
          "output_type": "execute_result",
          "data": {
            "application/vnd.google.colaboratory.intrinsic+json": {
              "type": "string"
            },
            "text/plain": [
              "'Hitesh'"
            ]
          },
          "metadata": {
            "tags": []
          },
          "execution_count": 18
        }
      ]
    },
    {
      "cell_type": "code",
      "metadata": {
        "id": "J4JVTIWr8Ypu",
        "colab_type": "code",
        "colab": {
          "base_uri": "https://localhost:8080/",
          "height": 68
        },
        "outputId": "bf3dbf37-8fbf-40cb-e73a-66bb2fa34140"
      },
      "source": [
        "class Employees:\n",
        "  def __init__(self,name,gender,salary):\n",
        "    self.name =name\n",
        "    self.gender=gender\n",
        "    self.salary=salary\n",
        "\n",
        "  def employees_details(self):\n",
        "    print(\"Name =\",self.name)\n",
        "    print(\"Gender = \",self.gender)\n",
        "    print(\"Salary = \",self.salary)\n",
        "\n",
        "e=Employees(\"Hitesh\",\"Male\",\"1000000\")\n",
        "e.employees_details()"
      ],
      "execution_count": 20,
      "outputs": [
        {
          "output_type": "stream",
          "text": [
            "Name = Hitesh\n",
            "Gender =  Male\n",
            "Salary =  1000000\n"
          ],
          "name": "stdout"
        }
      ]
    },
    {
      "cell_type": "code",
      "metadata": {
        "id": "K-Jc_KGm8YmK",
        "colab_type": "code",
        "colab": {
          "base_uri": "https://localhost:8080/",
          "height": 68
        },
        "outputId": "81f00514-69ce-4a36-d996-4c265fe658ad"
      },
      "source": [
        "class Vehicle:\n",
        "  def __init__(self, milage,cost):\n",
        "    self.milage=milage\n",
        "    self.cost=cost\n",
        "\n",
        "  def vechicle_details(self):\n",
        "     print(\"I am vehicle\")\n",
        "     print(\"My milage is\",self.milage)\n",
        "     print(\"My cost is\",self.cost)\n",
        "\n",
        "v=Vehicle(\"17\",\"200000\")\n",
        "v.vechicle_details()"
      ],
      "execution_count": 23,
      "outputs": [
        {
          "output_type": "stream",
          "text": [
            "I am vehicle\n",
            "My milage is 17\n",
            "My cost is 200000\n"
          ],
          "name": "stdout"
        }
      ]
    },
    {
      "cell_type": "code",
      "metadata": {
        "id": "h5i85_hS6H5k",
        "colab_type": "code",
        "colab": {}
      },
      "source": [
        ""
      ],
      "execution_count": null,
      "outputs": []
    }
  ]
}